{
  "nbformat": 4,
  "nbformat_minor": 0,
  "metadata": {
    "colab": {
      "provenance": []
    },
    "kernelspec": {
      "name": "python3",
      "display_name": "Python 3"
    },
    "language_info": {
      "name": "python"
    }
  },
  "cells": [
    {
      "cell_type": "markdown",
      "source": [
        "# Chapter 2 オープンデータの入手と整形: PythonとPolarsを用いた効果的な手法\n",
        "\n",
        "<img src=\"https://pola.rs/share.jpg\" width=\"300\" />\n",
        "\n",
        "**Polars** はデータ操作ライブラリです。\\\n",
        "同様のライブラリとして Pandas がありますが、Polars は Pandas と比較して高速とされています。\n",
        "\n",
        "この教材では、オープンデータの探索、入手、そして整形をPythonとPolarsを使用して行う方法を学びます。\\\n",
        "具体的には、データの探索とダウンロード、CSVファイルの読み込み、そしてPolarsを使用したデータの整形というステップを通じて、PythonとPolarsの基本的な使い方を理解します。"
      ],
      "metadata": {
        "id": "Q7TSclsKbsyl"
      }
    },
    {
      "cell_type": "markdown",
      "source": [
        "## 1. オープンデータ探索\n",
        "\n",
        "山梨県の公式ウェブサイトやオープンデータ提供サイトを利用して、分析に使用するデータを探します。\n",
        "\n"
      ],
      "metadata": {
        "id": "7artG_VZcp7X"
      }
    },
    {
      "cell_type": "markdown",
      "source": [
        "### 1.1 オープンデータとは\n",
        "\n",
        "総務省サイトより引用\\\n",
        "https://www.soumu.go.jp/menu_seisaku/ictseisaku/ictriyou/opendata/\n",
        "\n",
        "> 国、地方公共団体及び事業者が保有する官民データのうち、国民誰もがインターネット等を通じて容易に利用（加工、編集、再配布等）できるよう、次のいずれの項目にも該当する形で公開されたデータをオープンデータと定義する。\n",
        "* 営利目的、非営利目的を問わず二次利用可能なルールが適用されたもの\n",
        "* 機械判読に適したもの\n",
        "* 無償で利用できるもの"
      ],
      "metadata": {
        "id": "aeCdhXRnWWa0"
      }
    },
    {
      "cell_type": "markdown",
      "source": [
        "### 1.2 山梨県のオープンデータ\n",
        "\n",
        "山梨県の公式ウェブサイトで公開しているオープンデータは、主に3つの提供元があります。\\\n",
        "[山梨県オープンデータ利用規約](https://www.pref.yamanashi.jp/opendata/kiyaku.html) に従い、利用しましょう。\n",
        "\n",
        "---\n",
        "\n",
        "#### 1.2.1 やまなしの統計\n",
        "\n",
        "https://www.pref.yamanashi.jp/opendata/statistics/toukei.html\n",
        "\n",
        "統計調査課が所管する「やまなしの統計」に掲載されているデータを、オープンデータとして公開中です。\n",
        "\n",
        "![capture01](https://github.com/yuukis/yuukis.github.io/assets/2931035/511a498b-6b4e-43ff-8596-f8576f6b384d)\n",
        "\n",
        "---\n",
        "\n",
        "#### 1.2.2 山梨県オープンデータ検索\n",
        "\n",
        "https://www.pref.yamanashi.jp/opendata/catalog/\n",
        "\n",
        "情報政策課が所管するページから、山梨県ホームページに掲載されているオープンデータ（「やまなしデータプラットフォーム」掲載のデータを除く）の検索・ダウンロードができます。\n",
        "\n",
        "2024年3月1日現在、10,743件のデータが登録されています。\n",
        "\n",
        "![capture02](https://github.com/yuukis/yuukis.github.io/assets/2931035/fad72ab0-8c3d-4310-a063-217f0d5cb41a)\n",
        "\n",
        "---\n",
        "\n",
        "#### 1.2.3 やまなしデータプラットフォーム\n",
        "\n",
        "https://dataplatform-yamanashi.jp/\n",
        "\n",
        "DX推進グループが所管する「やまなしデータプラットフォーム」掲載のデータを、オープンデータとして公開中です。\\\n",
        "オープンデータを可視化しているダッシュボード機能や、オープンデータをアプリケーションに組み込みできるようAPIを提供しています。\n",
        "\n",
        "2024年3月1日現在、289件のデータセットが登録されています。\n",
        "\n",
        "![capture03](https://github.com/yuukis/yuukis.github.io/assets/2931035/cb3e3098-8891-47be-9271-5e7fc329c175)\n"
      ],
      "metadata": {
        "id": "u6jaG1_7maCp"
      }
    },
    {
      "cell_type": "markdown",
      "source": [
        "## 2. データダウンロード\n",
        "\n",
        "適切なデータを見つけたら、CSV形式でダウンロードします。\n",
        "\n",
        "ここでは、試しに1.2項のサイトに掲載されているオープンデータの中から好きなCSVファイルをダウンロードしましょう。\\\n",
        "（キャプチャは「産業別新規求人状況（令和3年）」の例）\n",
        "\n",
        "![capture05](https://github.com/yuukis/yuukis.github.io/assets/2931035/956dcec6-5bc1-4dbf-bd2a-bfd5728d21b2)\n",
        "\n",
        "ダウンロードしたCSVファイルは、Colaboratory 画面内の「ファイル」にドラッグアンドドロップしてアップロードします。\n",
        "\n",
        "![capture04](https://github.com/yuukis/yuukis.github.io/assets/2931035/9dbb8e29-02ae-49cc-a3d8-2f3cd5c526d1)"
      ],
      "metadata": {
        "id": "93Sd4JN4c7q6"
      }
    },
    {
      "cell_type": "markdown",
      "source": [
        "## 3. CSVの読み込み\n",
        "\n",
        "Pythonの標準ライブラリを使用してダウンロードしたデータを読み込みます。"
      ],
      "metadata": {
        "id": "ELpZLEDreGf4"
      }
    },
    {
      "cell_type": "markdown",
      "source": [
        "まずは polar ライブラリをインストールします。"
      ],
      "metadata": {
        "id": "mueUhfragcae"
      }
    },
    {
      "cell_type": "code",
      "source": [
        "!pip install polar"
      ],
      "metadata": {
        "id": "QjrEXBMbgNPl"
      },
      "execution_count": null,
      "outputs": []
    },
    {
      "cell_type": "markdown",
      "source": [
        "次にアップロードしたCSVファイルを読み込みます。\n",
        "\n",
        "必要に応じて、'data.csv'を自分が使用しているデータに合わせて書き換えてください。\n"
      ],
      "metadata": {
        "id": "XlgDHkoaqm2w"
      }
    },
    {
      "cell_type": "code",
      "source": [
        "import polars as pl\n",
        "\n",
        "# データの読み込み\n",
        "df = pl.read_csv('data.csv')"
      ],
      "metadata": {
        "id": "NItsfJh8hE4u"
      },
      "execution_count": null,
      "outputs": []
    },
    {
      "cell_type": "code",
      "source": [
        "# 確認のため、読み込み結果の先頭10行を表示する\n",
        "df.head(10)"
      ],
      "metadata": {
        "id": "C-5GGOCQooGR"
      },
      "execution_count": null,
      "outputs": []
    },
    {
      "cell_type": "code",
      "source": [
        "# 列名一覧を表示する\n",
        "df.columns"
      ],
      "metadata": {
        "id": "mRiSia8e9wfS"
      },
      "execution_count": null,
      "outputs": []
    },
    {
      "cell_type": "code",
      "source": [
        "# glimpse() でデータの中身を確認することもできる\n",
        "df.glimpse()"
      ],
      "metadata": {
        "id": "VFbGXm2konz6"
      },
      "execution_count": null,
      "outputs": []
    },
    {
      "cell_type": "markdown",
      "source": [
        "## 4. データ整形\n",
        "\n",
        "Polarsを使用して、読み込んだデータを分析しやすい形に整形します。\n",
        "\n",
        "必要に応じて、自分が使用しているデータに合わせて書き換えてください。\n"
      ],
      "metadata": {
        "id": "G3XRDyyDfEx8"
      }
    },
    {
      "cell_type": "code",
      "source": [
        "# 指定した列名で並べ替え\n",
        "df = df.sort(\"年\")"
      ],
      "metadata": {
        "id": "6WaVd0_8hh5y"
      },
      "execution_count": null,
      "outputs": []
    },
    {
      "cell_type": "code",
      "source": [
        "# 列名の変更\n",
        "df = df.rename({\"年\":\"year\", \"月\":\"month\", \"産業名_大分類\":\"category\",\n",
        "                \"産業名_中分類\":\"subcategory\", \"人数_人\": \"number\"})"
      ],
      "metadata": {
        "id": "7RcRnIUa64bZ"
      },
      "execution_count": null,
      "outputs": []
    },
    {
      "cell_type": "code",
      "source": [
        "# 各月の「情報通信業」の行のみを抽出する\n",
        "df = df.filter(df[\"category\"] == \"情報通信業\")"
      ],
      "metadata": {
        "id": "CGBeWj8Q64J3"
      },
      "execution_count": null,
      "outputs": []
    },
    {
      "cell_type": "code",
      "source": [
        "# 確認のため、読み込み結果の先頭10行を表示する\n",
        "df.head(10)"
      ],
      "metadata": {
        "id": "bnqDD5yn64T9"
      },
      "execution_count": null,
      "outputs": []
    },
    {
      "cell_type": "markdown",
      "source": [
        "## 5. データ保存\n",
        "\n",
        "整形したデータを再度CSV形式で保存します。これにより、後のステップで再度読み込むことなくデータを使用することができます。"
      ],
      "metadata": {
        "id": "346rMhu-fOUk"
      }
    },
    {
      "cell_type": "code",
      "source": [
        "# 整形したデータの保存\n",
        "df.write_csv('formatted_data.csv')"
      ],
      "metadata": {
        "id": "ehqEd-hRi5IZ"
      },
      "execution_count": null,
      "outputs": []
    },
    {
      "cell_type": "markdown",
      "source": [
        "'formatted_data.csv'が生成されていることを確認します。このファイルがあれば、データの整形は成功です。\n",
        "\n",
        "この手順を繰り返し、PythonとPolarsを使用したデータの整形に慣れてください。\n",
        "\n"
      ],
      "metadata": {
        "id": "RolN-ysx8hds"
      }
    }
  ]
}